{
 "cells": [
  {
   "cell_type": "code",
   "execution_count": 1,
   "metadata": {},
   "outputs": [],
   "source": [
    "import requests\n",
    "from hashlib import sha1\n",
    "from utils import generate_random\n",
    "from dotenv import Dotenv"
   ]
  },
  {
   "cell_type": "markdown",
   "metadata": {},
   "source": [
    "Config"
   ]
  },
  {
   "cell_type": "code",
   "execution_count": 2,
   "metadata": {},
   "outputs": [],
   "source": [
    "env = Dotenv(\".env\")\n",
    "hostname = env[\"hostname\"]\n",
    "url = f\"https://{hostname}/jsonrpc/\"\n",
    "username = env[\"username\"]\n",
    "password = env[\"password\"]"
   ]
  },
  {
   "cell_type": "code",
   "execution_count": 3,
   "metadata": {},
   "outputs": [
    {
     "data": {
      "text/plain": [
       "'D570F7C57ED8ECBA1335C7EA13D1A746AD96DA00'"
      ]
     },
     "execution_count": 3,
     "metadata": {},
     "output_type": "execute_result"
    }
   ],
   "source": [
    "ha1 = sha1(f\"{username}:Insta-NetBox:{password}\".encode()).digest().hex()\n",
    "ha1u = ha1.upper()\n",
    "ha1u"
   ]
  },
  {
   "cell_type": "code",
   "execution_count": 4,
   "metadata": {},
   "outputs": [
    {
     "data": {
      "text/plain": [
       "'D3178078CA6013FFFAC1C7AE1C25796EC830DCD3'"
      ]
     },
     "execution_count": 4,
     "metadata": {},
     "output_type": "execute_result"
    }
   ],
   "source": [
    "ha2 = sha1(\"POST:/jsonrpc//management\".encode()).digest().hex()\n",
    "ha2u = ha2.upper()\n",
    "ha2u"
   ]
  },
  {
   "cell_type": "code",
   "execution_count": 5,
   "metadata": {},
   "outputs": [
    {
     "data": {
      "text/plain": [
       "'00000001'"
      ]
     },
     "execution_count": 5,
     "metadata": {},
     "output_type": "execute_result"
    }
   ],
   "source": [
    "ncd = \"1\"\n",
    "nc = (\"00000000\" + ncd)[-8:]\n",
    "nc"
   ]
  },
  {
   "cell_type": "code",
   "execution_count": 6,
   "metadata": {},
   "outputs": [
    {
     "data": {
      "text/plain": [
       "'11232A84CADB6D0BBE17E903D2EEA1156CFF8696'"
      ]
     },
     "execution_count": 6,
     "metadata": {},
     "output_type": "execute_result"
    }
   ],
   "source": [
    "cnonce = generate_random(40)\n",
    "cnonce"
   ]
  },
  {
   "cell_type": "code",
   "execution_count": 7,
   "metadata": {},
   "outputs": [
    {
     "name": "stderr",
     "output_type": "stream",
     "text": [
      "c:\\Users\\MaikS\\AppData\\Local\\Programs\\Python\\Python311\\Lib\\site-packages\\urllib3\\connectionpool.py:1095: InsecureRequestWarning: Unverified HTTPS request is being made to host 'enetserver.local'. Adding certificate verification is strongly advised. See: https://urllib3.readthedocs.io/en/latest/advanced-usage.html#tls-warnings\n",
      "  warnings.warn(\n"
     ]
    }
   ],
   "source": [
    "res = requests.post(\n",
    "    url + \"management\",\n",
    "    json={\n",
    "        \"jsonrpc\":\"2.0\",\n",
    "        \"method\": \"getDigestAuthentificationInfos\",\n",
    "        \"params\": None\n",
    "        },\n",
    "    verify=False\n",
    ")\n",
    "result = res.json()[\"result\"]\n",
    "isid = res.headers[\"x-clientcredentials-sessionid\"]"
   ]
  },
  {
   "cell_type": "code",
   "execution_count": 8,
   "metadata": {},
   "outputs": [
    {
     "data": {
      "text/plain": [
       "'975BB7D5BB5CEB9067E9184F2DA2A57A52C2618F'"
      ]
     },
     "execution_count": 8,
     "metadata": {},
     "output_type": "execute_result"
    }
   ],
   "source": [
    "ha3 = sha1(f\"{ha1u}:{result['nonce']}:{nc}:{cnonce}:auth:{ha2u}\".encode()).digest().hex()\n",
    "response = ha3.upper()\n",
    "response"
   ]
  },
  {
   "cell_type": "code",
   "execution_count": 9,
   "metadata": {},
   "outputs": [
    {
     "data": {
      "text/plain": [
       "'3835757563626970767466696e656d6b7636326c37396963376c'"
      ]
     },
     "execution_count": 9,
     "metadata": {},
     "output_type": "execute_result"
    }
   ],
   "source": [
    "result[\"opaque\"]"
   ]
  },
  {
   "cell_type": "code",
   "execution_count": 10,
   "metadata": {},
   "outputs": [],
   "source": [
    "auth_request_params = {\n",
    "    \"username\": username,\n",
    "    \"realm\": result[\"realm\"],\n",
    "    \"nonce\": result[\"nonce\"],\n",
    "    \"uri\": result[\"uri\"],\n",
    "    \"qop\": result[\"qop\"],\n",
    "    \"opaque\": result[\"opaque\"],\n",
    "    \"response\": response,\n",
    "    \"nc\": nc,\n",
    "    \"cnonce\": cnonce\n",
    "}"
   ]
  },
  {
   "cell_type": "code",
   "execution_count": 11,
   "metadata": {},
   "outputs": [],
   "source": [
    "payload = {\n",
    "    \"userName\": username,\n",
    "    \"uri\": \"/jsonrpc//management\",\n",
    "    \"qop\": \"auth\",\n",
    "    \"cnonce\": auth_request_params[\"cnonce\"],\n",
    "    \"nc\": auth_request_params[\"nc\"],\n",
    "    \"response\": response,\n",
    "    \"nonce\": auth_request_params[\"nonce\"],\n",
    "    \"algorithm\": \"sha\",\n",
    "    \"opaque\": auth_request_params[\"opaque\"]\n",
    "}"
   ]
  },
  {
   "cell_type": "code",
   "execution_count": 12,
   "metadata": {},
   "outputs": [
    {
     "name": "stderr",
     "output_type": "stream",
     "text": [
      "c:\\Users\\MaikS\\AppData\\Local\\Programs\\Python\\Python311\\Lib\\site-packages\\urllib3\\connectionpool.py:1095: InsecureRequestWarning: Unverified HTTPS request is being made to host 'enetserver.local'. Adding certificate verification is strongly advised. See: https://urllib3.readthedocs.io/en/latest/advanced-usage.html#tls-warnings\n",
      "  warnings.warn(\n"
     ]
    },
    {
     "data": {
      "text/plain": [
       "{'jsonrpc': '2.0',\n",
       " 'error': {'code': -32602, 'message': 'Invalid params'},\n",
       " 'id': None}"
      ]
     },
     "execution_count": 12,
     "metadata": {},
     "output_type": "execute_result"
    }
   ],
   "source": [
    "login_result = requests.post(\n",
    "    url + \"management\",\n",
    "        json={\n",
    "        \"jsonrpc\": \"2.0\",\n",
    "        \"method\": \"userLoginDigest\",\n",
    "        \"params\": payload\n",
    "        },\n",
    "    headers={\"Cookie\": f\"INSTASESSIONID={isid}\"},\n",
    "    verify=False\n",
    ")\n",
    "login_result.json()"
   ]
  },
  {
   "cell_type": "code",
   "execution_count": 13,
   "metadata": {},
   "outputs": [
    {
     "data": {
      "text/plain": [
       "{'userName': 'api',\n",
       " 'uri': '/jsonrpc//management',\n",
       " 'qop': 'auth',\n",
       " 'cnonce': '11232A84CADB6D0BBE17E903D2EEA1156CFF8696',\n",
       " 'nc': '00000001',\n",
       " 'response': '975BB7D5BB5CEB9067E9184F2DA2A57A52C2618F',\n",
       " 'nonce': '36df2fcc092ad3464cfb1df6b8612688ab502781',\n",
       " 'algorithm': 'sha',\n",
       " 'opaque': '3835757563626970767466696e656d6b7636326c37396963376c'}"
      ]
     },
     "execution_count": 13,
     "metadata": {},
     "output_type": "execute_result"
    }
   ],
   "source": [
    "payload"
   ]
  },
  {
   "cell_type": "code",
   "execution_count": null,
   "metadata": {},
   "outputs": [],
   "source": []
  }
 ],
 "metadata": {
  "kernelspec": {
   "display_name": "Python 3",
   "language": "python",
   "name": "python3"
  },
  "language_info": {
   "codemirror_mode": {
    "name": "ipython",
    "version": 3
   },
   "file_extension": ".py",
   "mimetype": "text/x-python",
   "name": "python",
   "nbconvert_exporter": "python",
   "pygments_lexer": "ipython3",
   "version": "3.11.0"
  },
  "orig_nbformat": 4
 },
 "nbformat": 4,
 "nbformat_minor": 2
}
